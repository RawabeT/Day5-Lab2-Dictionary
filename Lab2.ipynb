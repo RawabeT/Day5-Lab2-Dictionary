{
 "cells": [
  {
   "cell_type": "code",
   "execution_count": null,
   "id": "a73623a7",
   "metadata": {},
   "outputs": [],
   "source": [
    "dicts= {\n",
    "  \"Amal\": 1111111111,\n",
    "  \"Mohammed\": 2222222222,\n",
    "  \"Khadijah\": 3333333333,\n",
    "  \"Abdullah\": 4444444444,\n",
    "  \"Rawan\": 5555555555,\n",
    "  \"Faisal\": 6666666666,\n",
    "  \"Layla\": 7777777777,\n",
    "}\n",
    "\n",
    "\n",
    "while True:\n",
    "    userInput = input('Enter phone number ')\n",
    "    \n",
    "    try: \n",
    "        userInput = int(userInput)\n",
    "    except ValueError:\n",
    "        print(\"This is invalid number\")\n",
    "        continue;\n",
    "        \n",
    "    if len(str(userInput)) != 10:\n",
    "        print(\"This is invalid number\")\n",
    "        continue;\n",
    "\n",
    "    for name, phone in dicts.items():\n",
    "        if phone == userInput:\n",
    "            print('The owner of the phone is ', name)  \n",
    "            \n",
    "        print(\"Sorry, the number is not found\")   \n",
    "            "
   ]
  },
  {
   "cell_type": "code",
   "execution_count": null,
   "id": "0c685f1f",
   "metadata": {},
   "outputs": [],
   "source": []
  }
 ],
 "metadata": {
  "kernelspec": {
   "display_name": "Python 3 (ipykernel)",
   "language": "python",
   "name": "python3"
  },
  "language_info": {
   "codemirror_mode": {
    "name": "ipython",
    "version": 3
   },
   "file_extension": ".py",
   "mimetype": "text/x-python",
   "name": "python",
   "nbconvert_exporter": "python",
   "pygments_lexer": "ipython3",
   "version": "3.9.12"
  }
 },
 "nbformat": 4,
 "nbformat_minor": 5
}
